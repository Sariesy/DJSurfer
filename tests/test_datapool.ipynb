{
 "cells": [
  {
   "cell_type": "code",
   "execution_count": 4,
   "metadata": {},
   "outputs": [],
   "source": [
    "import numpy as np\n",
    "from pathlib import Path\n",
    "from djsurfer.datapool import DataPool"
   ]
  },
  {
   "cell_type": "code",
   "execution_count": 3,
   "metadata": {},
   "outputs": [],
   "source": [
    "dir_demo = Path('demo_data')\n",
    "dir_demo.mkdir(exist_ok=True)"
   ]
  },
  {
   "cell_type": "code",
   "execution_count": 5,
   "metadata": {},
   "outputs": [
    {
     "data": {
      "text/plain": [
       "array([[0.79195628, 0.66628553, 0.44086587, 0.81147295, 0.80238994,\n",
       "        0.20385759, 0.90475965, 0.08806935, 0.62895144, 0.74895447],\n",
       "       [0.30401384, 0.47323363, 0.10805294, 0.11788423, 0.37257177,\n",
       "        0.92944603, 0.39072063, 0.29448088, 0.28008365, 0.40255495],\n",
       "       [0.06840796, 0.27533459, 0.18220288, 0.30504132, 0.27396054,\n",
       "        0.06012043, 0.10308559, 0.88713312, 0.33958387, 0.02456252],\n",
       "       [0.85965659, 0.0797598 , 0.68164896, 0.63851024, 0.43487344,\n",
       "        0.32081563, 0.59942376, 0.17920125, 0.9978845 , 0.03986622],\n",
       "       [0.43129877, 0.4468783 , 0.79648514, 0.26421754, 0.16718285,\n",
       "        0.01299141, 0.48005265, 0.17413457, 0.91184653, 0.16460342]])"
      ]
     },
     "execution_count": 5,
     "metadata": {},
     "output_type": "execute_result"
    }
   ],
   "source": [
    "arr = np.random.rand(10, 5)\n",
    "\n",
    "arr"
   ]
  },
  {
   "cell_type": "code",
   "execution_count": null,
   "metadata": {},
   "outputs": [],
   "source": []
  }
 ],
 "metadata": {
  "kernelspec": {
   "display_name": "my_data",
   "language": "python",
   "name": "python3"
  },
  "language_info": {
   "codemirror_mode": {
    "name": "ipython",
    "version": 3
   },
   "file_extension": ".py",
   "mimetype": "text/x-python",
   "name": "python",
   "nbconvert_exporter": "python",
   "pygments_lexer": "ipython3",
   "version": "3.8.17"
  }
 },
 "nbformat": 4,
 "nbformat_minor": 2
}
